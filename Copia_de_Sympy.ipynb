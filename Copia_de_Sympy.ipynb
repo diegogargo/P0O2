{
  "cells": [
    {
      "cell_type": "markdown",
      "metadata": {
        "id": "1MfgMxTL7VPv"
      },
      "source": [
        "\n",
        "# SymPy - Álgebra en Python"
      ]
    },
    {
      "cell_type": "code",
      "execution_count": 4,
      "metadata": {
        "id": "N1WnD-ee7VP9"
      },
      "outputs": [],
      "source": [
        "from sympy import * # Trae todos los elementos que estan sympy\n",
        "\n"
      ]
    },
    {
      "cell_type": "markdown",
      "metadata": {
        "id": "LZxRVY_B7VP_"
      },
      "source": [
        "## Symbolic variables"
      ]
    },
    {
      "cell_type": "markdown",
      "metadata": {
        "id": "_5ppRUkn7VQA"
      },
      "source": [
        "En SymPy necesitamos crear símbolos para las variables con las que queremos trabajar. Podemos crear un nuevo símbolo usando la clase`Symbol`:"
      ]
    },
    {
      "cell_type": "code",
      "execution_count": 8,
      "metadata": {
        "id": "pWrKucmb7VQA",
        "colab": {
          "base_uri": "https://localhost:8080/",
          "height": 39
        },
        "outputId": "1acf46f8-4671-49c7-822e-69b597699672"
      },
      "outputs": [
        {
          "output_type": "execute_result",
          "data": {
            "text/plain": [
              "x"
            ],
            "text/latex": "$\\displaystyle x$"
          },
          "metadata": {},
          "execution_count": 8
        }
      ],
      "source": [
        "x = Symbol ('x') # Crea una variable x\n",
        "x"
      ]
    },
    {
      "cell_type": "code",
      "execution_count": 6,
      "metadata": {
        "id": "XhMUCphO7VQD"
      },
      "outputs": [],
      "source": [
        "a, b, c = symbols(\"a, b, c\") # Crea un conjunto de simbolos o variables"
      ]
    },
    {
      "cell_type": "markdown",
      "metadata": {
        "id": "_FFT6qe47VQG"
      },
      "source": [
        "Podemos agregar suposiciones a los símbolos cuando los creamos:"
      ]
    },
    {
      "cell_type": "code",
      "execution_count": null,
      "metadata": {
        "id": "HLZrwFQ47VQH"
      },
      "outputs": [],
      "source": [
        "x = Symbol('x', real=True) # Te dice si x es una variable real o no"
      ]
    },
    {
      "cell_type": "code",
      "execution_count": null,
      "metadata": {
        "id": "SjDqUGMY7VQI",
        "outputId": "5782d236-cbb3-4a9e-9766-51ad1aee70ab",
        "colab": {
          "base_uri": "https://localhost:8080/"
        }
      },
      "outputs": [
        {
          "output_type": "execute_result",
          "data": {
            "text/plain": [
              "False"
            ]
          },
          "metadata": {},
          "execution_count": 6
        }
      ],
      "source": [
        "x.is_imaginary # O imaginarios"
      ]
    },
    {
      "cell_type": "code",
      "execution_count": null,
      "metadata": {
        "id": "4_gvZnR47VQI"
      },
      "outputs": [],
      "source": [
        "x = Symbol('x', positive=True)"
      ]
    },
    {
      "cell_type": "code",
      "execution_count": null,
      "metadata": {
        "id": "rwLUdZMA7VQJ",
        "outputId": "67f2d00d-4c84-4667-c1a8-0f378b9212ac",
        "colab": {
          "base_uri": "https://localhost:8080/",
          "height": 57
        }
      },
      "outputs": [
        {
          "output_type": "execute_result",
          "data": {
            "text/plain": [
              "True"
            ],
            "text/latex": "$\\displaystyle \\text{True}$"
          },
          "metadata": {},
          "execution_count": 8
        }
      ],
      "source": [
        "x > 0"
      ]
    },
    {
      "cell_type": "markdown",
      "metadata": {
        "id": "ZrKbynzL7VQq"
      },
      "source": [
        "## Manipulaciones Algebraicas"
      ]
    },
    {
      "cell_type": "markdown",
      "metadata": {
        "id": "AmjqzaBB7VQr"
      },
      "source": [
        "### Expand // factor"
      ]
    },
    {
      "cell_type": "code",
      "execution_count": 9,
      "metadata": {
        "id": "APqtrrkI7VQs",
        "outputId": "60340308-aff6-44eb-aa4b-687c8a1bbd7f",
        "colab": {
          "base_uri": "https://localhost:8080/",
          "height": 39
        }
      },
      "outputs": [
        {
          "output_type": "execute_result",
          "data": {
            "text/plain": [
              "(x + 1)*(x + 2)*(x + 3)"
            ],
            "text/latex": "$\\displaystyle \\left(x + 1\\right) \\left(x + 2\\right) \\left(x + 3\\right)$"
          },
          "metadata": {},
          "execution_count": 9
        }
      ],
      "source": [
        "f1= (x+1)*(x+2)*(x+3) # Una vez creada la variable puedes crear funciones\n",
        "f1"
      ]
    },
    {
      "cell_type": "code",
      "execution_count": null,
      "metadata": {
        "id": "dx9RlN8g7VQs",
        "outputId": "57bcb926-f98a-4e3f-fe27-354135a75a68",
        "colab": {
          "base_uri": "https://localhost:8080/",
          "height": 59
        }
      },
      "outputs": [
        {
          "output_type": "execute_result",
          "data": {
            "text/plain": [
              "x**3 + 6*x**2 + 11*x + 6"
            ],
            "text/latex": "$\\displaystyle x^{3} + 6 x^{2} + 11 x + 6$"
          },
          "metadata": {},
          "execution_count": 10
        }
      ],
      "source": [
        "expand((x+1)*(x+2)*(x+3)) # Expande las funciones a como se desarrollaria (Expande la función)"
      ]
    },
    {
      "cell_type": "markdown",
      "metadata": {
        "id": "xzH5Kl6M7VQv"
      },
      "source": [
        "Lo opuesto a la expansión del producto es, por supuesto, factorizar. Para factorizar una expresión en SymPy use el `factor`:"
      ]
    },
    {
      "cell_type": "code",
      "execution_count": null,
      "metadata": {
        "id": "yXNL1rle7VQw",
        "outputId": "322c1a61-4a3f-4945-894f-afa1e90cb2c1",
        "colab": {
          "base_uri": "https://localhost:8080/",
          "height": 59
        }
      },
      "outputs": [
        {
          "output_type": "execute_result",
          "data": {
            "text/plain": [
              "(x + 1)*(x + 2)*(x + 3)"
            ],
            "text/latex": "$\\displaystyle \\left(x + 1\\right) \\left(x + 2\\right) \\left(x + 3\\right)$"
          },
          "metadata": {},
          "execution_count": 11
        }
      ],
      "source": [
        "factor(x**3 + 6 * x**2 + 11*x + 6) # Factoriza el reciproco de la función expandida"
      ]
    },
    {
      "cell_type": "markdown",
      "metadata": {
        "id": "ukuul-xc7VQw"
      },
      "source": [
        "### Simplify"
      ]
    },
    {
      "cell_type": "code",
      "execution_count": 10,
      "metadata": {
        "id": "rYsLwwSl7VQx",
        "outputId": "0658def3-a426-408e-85e1-b8a3536af124",
        "colab": {
          "base_uri": "https://localhost:8080/",
          "height": 39
        }
      },
      "outputs": [
        {
          "output_type": "execute_result",
          "data": {
            "text/plain": [
              "(x + 1)*(x + 2)*(x + 3)"
            ],
            "text/latex": "$\\displaystyle \\left(x + 1\\right) \\left(x + 2\\right) \\left(x + 3\\right)$"
          },
          "metadata": {},
          "execution_count": 10
        }
      ],
      "source": [
        "simplify((x+1)*(x+2)*(x+3)) # Es una función general"
      ]
    },
    {
      "cell_type": "code",
      "execution_count": 11,
      "metadata": {
        "id": "NpPlwjUv7VQy",
        "outputId": "cb8a268e-3f52-40b0-afb7-4f348f482483",
        "colab": {
          "base_uri": "https://localhost:8080/",
          "height": 37
        }
      },
      "outputs": [
        {
          "output_type": "execute_result",
          "data": {
            "text/plain": [
              "1"
            ],
            "text/latex": "$\\displaystyle 1$"
          },
          "metadata": {},
          "execution_count": 11
        }
      ],
      "source": [
        "simplify(sin(a)**2 + cos(a)**2) # Simplifica la función"
      ]
    },
    {
      "cell_type": "code",
      "execution_count": null,
      "metadata": {
        "id": "BWvw5Jhj7VQz",
        "outputId": "dd763a18-c837-44ca-c389-e29eb5b65990",
        "colab": {
          "base_uri": "https://localhost:8080/",
          "height": 76
        }
      },
      "outputs": [
        {
          "output_type": "execute_result",
          "data": {
            "text/plain": [
              "1/tan(x)"
            ],
            "text/latex": "$\\displaystyle \\frac{1}{\\tan{\\left(x \\right)}}$"
          },
          "metadata": {},
          "execution_count": 14
        }
      ],
      "source": [
        "simplify(cos(x)/sin(x))"
      ]
    },
    {
      "cell_type": "markdown",
      "metadata": {
        "id": "4PXwQojE7VQz"
      },
      "source": [
        "### apart // together"
      ]
    },
    {
      "cell_type": "markdown",
      "metadata": {
        "id": "vcRxJ6tG7VQ0"
      },
      "source": [
        "Para manipular expresiones simbólicas de fracciones, usamos `apart` y `together`:"
      ]
    },
    {
      "cell_type": "code",
      "execution_count": null,
      "metadata": {
        "id": "hCDJ9NAu7VQ0"
      },
      "outputs": [],
      "source": [
        "f1 = 1/((a+1)*(a+2))"
      ]
    },
    {
      "cell_type": "code",
      "execution_count": null,
      "metadata": {
        "id": "TWStHNqC7VQ1",
        "outputId": "9f2a4dc5-d505-43a4-94aa-534cb596ce25",
        "colab": {
          "base_uri": "https://localhost:8080/",
          "height": 76
        }
      },
      "outputs": [
        {
          "output_type": "execute_result",
          "data": {
            "text/plain": [
              "1/((a + 1)*(a + 2))"
            ],
            "text/latex": "$\\displaystyle \\frac{1}{\\left(a + 1\\right) \\left(a + 2\\right)}$"
          },
          "metadata": {},
          "execution_count": 16
        }
      ],
      "source": [
        "f1"
      ]
    },
    {
      "cell_type": "code",
      "execution_count": null,
      "metadata": {
        "id": "8sQ3v9ZE7VQ3",
        "outputId": "03a0b6f8-efb6-41f5-f928-e21d3561d43b",
        "colab": {
          "base_uri": "https://localhost:8080/",
          "height": 72
        }
      },
      "outputs": [
        {
          "output_type": "execute_result",
          "data": {
            "text/plain": [
              "-1/(a + 2) + 1/(a + 1)"
            ],
            "text/latex": "$\\displaystyle - \\frac{1}{a + 2} + \\frac{1}{a + 1}$"
          },
          "metadata": {},
          "execution_count": 17
        }
      ],
      "source": [
        "apart(f1)"
      ]
    },
    {
      "cell_type": "code",
      "execution_count": null,
      "metadata": {
        "id": "Y3Ugzn6K7VQ3"
      },
      "outputs": [],
      "source": [
        "f2 = 1/(a+2) + 1/(a+3)"
      ]
    },
    {
      "cell_type": "code",
      "execution_count": null,
      "metadata": {
        "id": "xiPLgN3N7VQ4",
        "outputId": "244b5b15-d3bc-447e-be5a-fa6b43621806",
        "colab": {
          "base_uri": "https://localhost:8080/",
          "height": 72
        }
      },
      "outputs": [
        {
          "output_type": "execute_result",
          "data": {
            "text/plain": [
              "1/(a + 3) + 1/(a + 2)"
            ],
            "text/latex": "$\\displaystyle \\frac{1}{a + 3} + \\frac{1}{a + 2}$"
          },
          "metadata": {},
          "execution_count": 19
        }
      ],
      "source": [
        "f2"
      ]
    },
    {
      "cell_type": "code",
      "execution_count": null,
      "metadata": {
        "id": "j67nZJKE7VQ5",
        "outputId": "43d52394-56a3-4d68-b155-b7dff940bffa",
        "colab": {
          "base_uri": "https://localhost:8080/",
          "height": 76
        }
      },
      "outputs": [
        {
          "output_type": "execute_result",
          "data": {
            "text/plain": [
              "(2*a + 5)/((a + 2)*(a + 3))"
            ],
            "text/latex": "$\\displaystyle \\frac{2 a + 5}{\\left(a + 2\\right) \\left(a + 3\\right)}$"
          },
          "metadata": {},
          "execution_count": 20
        }
      ],
      "source": [
        "together(f2)"
      ]
    },
    {
      "cell_type": "markdown",
      "metadata": {
        "id": "Ruoyngry7VQ6"
      },
      "source": [
        "## Algo de cálculo"
      ]
    },
    {
      "cell_type": "markdown",
      "metadata": {
        "id": "f6mNvbTb7VQ7"
      },
      "source": [
        "### Diferenciación"
      ]
    },
    {
      "cell_type": "markdown",
      "metadata": {
        "id": "r9fjw1S27VQ7"
      },
      "source": [
        "Se usa `diff`. El primer argumento es la expresión de la cual tomar la derivada, y el segundo argumento es el símbolo por el cual tomar la derivada.:"
      ]
    },
    {
      "cell_type": "code",
      "execution_count": null,
      "metadata": {
        "id": "A0GalJVt7VRB"
      },
      "outputs": [],
      "source": [
        "x, y, z = symbols(\"x,y,z\")"
      ]
    },
    {
      "cell_type": "code",
      "execution_count": null,
      "metadata": {
        "id": "NcIX0XfS7VRB"
      },
      "outputs": [],
      "source": [
        "f = sin(x*y) + cos(y*z) = #jFuncion con dos variables"
      ]
    },
    {
      "cell_type": "markdown",
      "metadata": {
        "id": "9IxbDR0w7VRB"
      },
      "source": [
        "$\\frac{d^3f}{dxdy^2}$"
      ]
    },
    {
      "cell_type": "code",
      "execution_count": null,
      "metadata": {
        "id": "WcLuaiTR7VRB",
        "outputId": "ca27dcf2-67c9-41fe-9273-4975b97e5029",
        "colab": {
          "base_uri": "https://localhost:8080/",
          "height": 59
        }
      },
      "outputs": [
        {
          "output_type": "execute_result",
          "data": {
            "text/plain": [
              "-x*(x*y*cos(x*y) + 2*sin(x*y))"
            ],
            "text/latex": "$\\displaystyle - x \\left(x y \\cos{\\left(x y \\right)} + 2 \\sin{\\left(x y \\right)}\\right)$"
          },
          "metadata": {},
          "execution_count": 25
        }
      ],
      "source": [
        "diff(f, x, 1, y, 2) # La derivada de x con reespecto a x, el número significa la cantidad d e veces qer lo quieres derivar"
      ]
    },
    {
      "cell_type": "markdown",
      "metadata": {
        "id": "lakj2lpd7VRC"
      },
      "source": [
        "## Integración"
      ]
    },
    {
      "cell_type": "code",
      "execution_count": 14,
      "metadata": {
        "id": "Ej0O1uJw7VRC"
      },
      "outputs": [],
      "source": [
        "f2= sin(5*x)"
      ]
    },
    {
      "cell_type": "code",
      "execution_count": null,
      "metadata": {
        "id": "c2Nd5uzb7VRD",
        "outputId": "b9ac0fcd-b9c5-4b09-f3f4-9b9752ae11c8",
        "colab": {
          "base_uri": "https://localhost:8080/",
          "height": 88
        }
      },
      "outputs": [
        {
          "output_type": "execute_result",
          "data": {
            "text/plain": [
              "x*cos(y*z) + Piecewise((-cos(x*y)/y, Ne(y, 0)), (0, True))"
            ],
            "text/latex": "$\\displaystyle x \\cos{\\left(y z \\right)} + \\begin{cases} - \\frac{\\cos{\\left(x y \\right)}}{y} & \\text{for}\\: y \\neq 0 \\\\0 & \\text{otherwise} \\end{cases}$"
          },
          "metadata": {},
          "execution_count": 27
        }
      ],
      "source": [
        "integrate(f, x)"
      ]
    },
    {
      "cell_type": "markdown",
      "metadata": {
        "id": "DuDfKVKk7VRE"
      },
      "source": [
        "Al proporcionar límites para la variable de integración podemos evaluar integrales definidas:"
      ]
    },
    {
      "cell_type": "code",
      "execution_count": 19,
      "metadata": {
        "id": "1-NyOPe57VRE",
        "outputId": "f93796b9-bebe-4f93-902f-0f6c7843b974",
        "colab": {
          "base_uri": "https://localhost:8080/",
          "height": 37
        }
      },
      "outputs": [
        {
          "output_type": "execute_result",
          "data": {
            "text/plain": [
              "0"
            ],
            "text/latex": "$\\displaystyle 0$"
          },
          "metadata": {},
          "execution_count": 19
        }
      ],
      "source": [
        "integrate (f2, (x, -1, 1)) #Integra la funcion en un intervalo de 1 a -1."
      ]
    },
    {
      "cell_type": "markdown",
      "metadata": {
        "id": "YhcKo9Vo7VRF"
      },
      "source": [
        "e integrales impropias"
      ]
    },
    {
      "cell_type": "code",
      "execution_count": null,
      "metadata": {
        "id": "kOjxUjuH7VRJ",
        "outputId": "01ec62a3-7de3-479e-cac3-fb135096fbe8",
        "colab": {
          "base_uri": "https://localhost:8080/",
          "height": 57
        }
      },
      "outputs": [
        {
          "output_type": "execute_result",
          "data": {
            "text/plain": [
              "sqrt(pi)"
            ],
            "text/latex": "$\\displaystyle \\sqrt{\\pi}$"
          },
          "metadata": {},
          "execution_count": 29
        }
      ],
      "source": [
        "integrate(exp(-x**2), (x, -oo, oo)) # Funcion gaussiana (probabilidad)"
      ]
    },
    {
      "cell_type": "markdown",
      "metadata": {
        "id": "XUGMnXe47VRM"
      },
      "source": [
        "`oo` es la notación en SymPy para inifinito."
      ]
    },
    {
      "cell_type": "markdown",
      "metadata": {
        "id": "vGgjPDDF7VRm"
      },
      "source": [
        "* http://sympy.org/en/index.html\n",
        "* https://github.com/sympy/sympy\n",
        "* http://live.sympy.org"
      ]
    },
    {
      "cell_type": "code",
      "source": [],
      "metadata": {
        "id": "yeqjGR9L_HEa"
      },
      "execution_count": null,
      "outputs": []
    }
  ],
  "metadata": {
    "kernelspec": {
      "display_name": "Python 2",
      "language": "python",
      "name": "python2"
    },
    "language_info": {
      "codemirror_mode": {
        "name": "ipython",
        "version": 2
      },
      "file_extension": ".py",
      "mimetype": "text/x-python",
      "name": "python",
      "nbconvert_exporter": "python",
      "pygments_lexer": "ipython2",
      "version": "2.7.10"
    },
    "colab": {
      "provenance": []
    }
  },
  "nbformat": 4,
  "nbformat_minor": 0
}